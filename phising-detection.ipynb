{
 "cells": [
  {
   "cell_type": "code",
   "execution_count": 1,
   "id": "22e80f63",
   "metadata": {},
   "outputs": [],
   "source": [
    "#import packages\n",
    "import pandas as pd\n",
    "import matplotlib.pyplot as plt\n",
    "import numpy as np"
   ]
  },
  {
   "cell_type": "code",
   "execution_count": 4,
   "id": "b8b11e55",
   "metadata": {},
   "outputs": [
    {
     "data": {
      "text/html": [
       "<div>\n",
       "<style scoped>\n",
       "    .dataframe tbody tr th:only-of-type {\n",
       "        vertical-align: middle;\n",
       "    }\n",
       "\n",
       "    .dataframe tbody tr th {\n",
       "        vertical-align: top;\n",
       "    }\n",
       "\n",
       "    .dataframe thead th {\n",
       "        text-align: right;\n",
       "    }\n",
       "</style>\n",
       "<table border=\"1\" class=\"dataframe\">\n",
       "  <thead>\n",
       "    <tr style=\"text-align: right;\">\n",
       "      <th></th>\n",
       "      <th>-1</th>\n",
       "      <th>1</th>\n",
       "      <th>1.1</th>\n",
       "      <th>1.2</th>\n",
       "      <th>-1.1</th>\n",
       "      <th>-1.2</th>\n",
       "      <th>-1.3</th>\n",
       "      <th>-1.4</th>\n",
       "      <th>-1.5</th>\n",
       "      <th>1.3</th>\n",
       "      <th>...</th>\n",
       "      <th>1.9</th>\n",
       "      <th>1.10</th>\n",
       "      <th>-1.11</th>\n",
       "      <th>-1.12</th>\n",
       "      <th>-1.13</th>\n",
       "      <th>-1.14</th>\n",
       "      <th>1.11</th>\n",
       "      <th>1.12</th>\n",
       "      <th>-1.15</th>\n",
       "      <th>-1.16</th>\n",
       "    </tr>\n",
       "  </thead>\n",
       "  <tbody>\n",
       "    <tr>\n",
       "      <th>0</th>\n",
       "      <td>1</td>\n",
       "      <td>1</td>\n",
       "      <td>1</td>\n",
       "      <td>1</td>\n",
       "      <td>1</td>\n",
       "      <td>-1</td>\n",
       "      <td>0</td>\n",
       "      <td>1</td>\n",
       "      <td>-1</td>\n",
       "      <td>1</td>\n",
       "      <td>...</td>\n",
       "      <td>1</td>\n",
       "      <td>1</td>\n",
       "      <td>-1</td>\n",
       "      <td>-1</td>\n",
       "      <td>0</td>\n",
       "      <td>-1</td>\n",
       "      <td>1</td>\n",
       "      <td>1</td>\n",
       "      <td>1</td>\n",
       "      <td>-1</td>\n",
       "    </tr>\n",
       "    <tr>\n",
       "      <th>1</th>\n",
       "      <td>1</td>\n",
       "      <td>0</td>\n",
       "      <td>1</td>\n",
       "      <td>1</td>\n",
       "      <td>1</td>\n",
       "      <td>-1</td>\n",
       "      <td>-1</td>\n",
       "      <td>-1</td>\n",
       "      <td>-1</td>\n",
       "      <td>1</td>\n",
       "      <td>...</td>\n",
       "      <td>1</td>\n",
       "      <td>1</td>\n",
       "      <td>1</td>\n",
       "      <td>-1</td>\n",
       "      <td>1</td>\n",
       "      <td>-1</td>\n",
       "      <td>1</td>\n",
       "      <td>0</td>\n",
       "      <td>-1</td>\n",
       "      <td>-1</td>\n",
       "    </tr>\n",
       "    <tr>\n",
       "      <th>2</th>\n",
       "      <td>1</td>\n",
       "      <td>0</td>\n",
       "      <td>1</td>\n",
       "      <td>1</td>\n",
       "      <td>1</td>\n",
       "      <td>-1</td>\n",
       "      <td>-1</td>\n",
       "      <td>-1</td>\n",
       "      <td>1</td>\n",
       "      <td>1</td>\n",
       "      <td>...</td>\n",
       "      <td>1</td>\n",
       "      <td>1</td>\n",
       "      <td>-1</td>\n",
       "      <td>-1</td>\n",
       "      <td>1</td>\n",
       "      <td>-1</td>\n",
       "      <td>1</td>\n",
       "      <td>-1</td>\n",
       "      <td>1</td>\n",
       "      <td>-1</td>\n",
       "    </tr>\n",
       "    <tr>\n",
       "      <th>3</th>\n",
       "      <td>1</td>\n",
       "      <td>0</td>\n",
       "      <td>-1</td>\n",
       "      <td>1</td>\n",
       "      <td>1</td>\n",
       "      <td>-1</td>\n",
       "      <td>1</td>\n",
       "      <td>1</td>\n",
       "      <td>-1</td>\n",
       "      <td>1</td>\n",
       "      <td>...</td>\n",
       "      <td>-1</td>\n",
       "      <td>1</td>\n",
       "      <td>-1</td>\n",
       "      <td>-1</td>\n",
       "      <td>0</td>\n",
       "      <td>-1</td>\n",
       "      <td>1</td>\n",
       "      <td>1</td>\n",
       "      <td>1</td>\n",
       "      <td>1</td>\n",
       "    </tr>\n",
       "    <tr>\n",
       "      <th>4</th>\n",
       "      <td>-1</td>\n",
       "      <td>0</td>\n",
       "      <td>-1</td>\n",
       "      <td>1</td>\n",
       "      <td>-1</td>\n",
       "      <td>-1</td>\n",
       "      <td>1</td>\n",
       "      <td>1</td>\n",
       "      <td>-1</td>\n",
       "      <td>1</td>\n",
       "      <td>...</td>\n",
       "      <td>1</td>\n",
       "      <td>1</td>\n",
       "      <td>1</td>\n",
       "      <td>1</td>\n",
       "      <td>1</td>\n",
       "      <td>-1</td>\n",
       "      <td>1</td>\n",
       "      <td>-1</td>\n",
       "      <td>-1</td>\n",
       "      <td>1</td>\n",
       "    </tr>\n",
       "  </tbody>\n",
       "</table>\n",
       "<p>5 rows × 31 columns</p>\n",
       "</div>"
      ],
      "text/plain": [
       "   -1  1  1.1  1.2  -1.1  -1.2  -1.3  -1.4  -1.5  1.3  ...  1.9  1.10  -1.11  \\\n",
       "0   1  1    1    1     1    -1     0     1    -1    1  ...    1     1     -1   \n",
       "1   1  0    1    1     1    -1    -1    -1    -1    1  ...    1     1      1   \n",
       "2   1  0    1    1     1    -1    -1    -1     1    1  ...    1     1     -1   \n",
       "3   1  0   -1    1     1    -1     1     1    -1    1  ...   -1     1     -1   \n",
       "4  -1  0   -1    1    -1    -1     1     1    -1    1  ...    1     1      1   \n",
       "\n",
       "   -1.12  -1.13  -1.14  1.11  1.12  -1.15  -1.16  \n",
       "0     -1      0     -1     1     1      1     -1  \n",
       "1     -1      1     -1     1     0     -1     -1  \n",
       "2     -1      1     -1     1    -1      1     -1  \n",
       "3     -1      0     -1     1     1      1      1  \n",
       "4      1      1     -1     1    -1     -1      1  \n",
       "\n",
       "[5 rows x 31 columns]"
      ]
     },
     "execution_count": 4,
     "metadata": {},
     "output_type": "execute_result"
    }
   ],
   "source": [
    "#load Dataset and classify as features and label\n",
    "phishingData = pd.read_csv('phishing.txt')\n",
    "phishingData.head()"
   ]
  },
  {
   "cell_type": "code",
   "execution_count": 5,
   "id": "1c72e35d",
   "metadata": {},
   "outputs": [],
   "source": [
    "X = phishingData.iloc[:,:-1].values\n",
    "y = phishingData.iloc[:,30].values"
   ]
  },
  {
   "cell_type": "code",
   "execution_count": 8,
   "id": "62b5b48d",
   "metadata": {},
   "outputs": [],
   "source": [
    "#split features and label into training ang testing data\n",
    "from sklearn.model_selection import train_test_split\n",
    "X_train,X_test,y_train,y_test = train_test_split(X,y,test_size=0.3,random_state=4)"
   ]
  },
  {
   "cell_type": "code",
   "execution_count": 9,
   "id": "3a56b055",
   "metadata": {},
   "outputs": [],
   "source": [
    "#perform feature scaling\n",
    "from sklearn.preprocessing import StandardScaler\n",
    "scalar = StandardScaler()\n",
    "X_train = scalar.fit_transform (X_train)\n",
    "X_test = scalar.fit_transform (X_test) "
   ]
  },
  {
   "cell_type": "code",
   "execution_count": 10,
   "id": "2fa1435f",
   "metadata": {},
   "outputs": [
    {
     "data": {
      "text/plain": [
       "LogisticRegression(C=100, random_state=0)"
      ]
     },
     "execution_count": 10,
     "metadata": {},
     "output_type": "execute_result"
    }
   ],
   "source": [
    "#Logistic Regression Classifier \n",
    "from sklearn.linear_model import LogisticRegression\n",
    "LRclassifier = LogisticRegression(C=100,random_state=0)\n",
    "LRclassifier.fit(X_train,y_train)"
   ]
  },
  {
   "cell_type": "code",
   "execution_count": 11,
   "id": "036fe5e0",
   "metadata": {},
   "outputs": [],
   "source": [
    "LRpredict = LRclassifier.predict(X_test)"
   ]
  },
  {
   "cell_type": "code",
   "execution_count": 12,
   "id": "f541895e",
   "metadata": {},
   "outputs": [
    {
     "data": {
      "text/plain": [
       "0.9298177588212485"
      ]
     },
     "execution_count": 12,
     "metadata": {},
     "output_type": "execute_result"
    }
   ],
   "source": [
    "#LRC training score\n",
    "LRclassifier.score(X_train,y_train)"
   ]
  },
  {
   "cell_type": "code",
   "execution_count": 13,
   "id": "d8bb940e",
   "metadata": {},
   "outputs": [
    {
     "data": {
      "text/plain": [
       "0.9267410310521556"
      ]
     },
     "execution_count": 13,
     "metadata": {},
     "output_type": "execute_result"
    }
   ],
   "source": [
    "#LRC test score\n",
    "LRclassifier.score(X_test,y_test)"
   ]
  },
  {
   "cell_type": "code",
   "execution_count": 14,
   "id": "66a89095",
   "metadata": {},
   "outputs": [],
   "source": [
    "#confusion matrix for printing count of misclassified samples in the test data prediction\n",
    "from sklearn.metrics import confusion_matrix\n",
    "confusionMatrix = confusion_matrix(y_test,LRpredict)"
   ]
  },
  {
   "cell_type": "code",
   "execution_count": 16,
   "id": "1002a927",
   "metadata": {},
   "outputs": [],
   "source": [
    "# classify as features(Prefix_Suffix and URL_of_Anchor) and label with index 5\n",
    "X = phishingData.iloc[0:5,[6,14]].values\n",
    "y = phishingData.iloc[0:5,30].values"
   ]
  },
  {
   "cell_type": "code",
   "execution_count": 19,
   "id": "d03cb156",
   "metadata": {},
   "outputs": [],
   "source": [
    "#split features and label into training ang testing data\n",
    "from sklearn.model_selection import train_test_split\n",
    "X_train,X_test,y_train,y_test = train_test_split(X,y,test_size=0.3,random_state=4)"
   ]
  },
  {
   "cell_type": "code",
   "execution_count": 20,
   "id": "de902efa",
   "metadata": {},
   "outputs": [],
   "source": [
    "#perform feature scaling\n",
    "from sklearn.preprocessing import StandardScaler\n",
    "scalar = StandardScaler()\n",
    "X_train = scalar.fit_transform (X_train)\n",
    "X_test = scalar.fit_transform (X_test) "
   ]
  },
  {
   "cell_type": "code",
   "execution_count": 21,
   "id": "75394a5c",
   "metadata": {},
   "outputs": [
    {
     "data": {
      "text/plain": [
       "LogisticRegression(C=100, random_state=0)"
      ]
     },
     "execution_count": 21,
     "metadata": {},
     "output_type": "execute_result"
    }
   ],
   "source": [
    "#Logistic Regression Classifier \n",
    "from sklearn.linear_model import LogisticRegression\n",
    "LRclassifier1 = LogisticRegression(C=100,random_state=0)\n",
    "LRclassifier1.fit(X_train,y_train)"
   ]
  },
  {
   "cell_type": "code",
   "execution_count": 22,
   "id": "0de1e992",
   "metadata": {},
   "outputs": [],
   "source": [
    "LRpredict1 = LRclassifier1.predict(X_test)"
   ]
  },
  {
   "cell_type": "code",
   "execution_count": 23,
   "id": "3fd75a39",
   "metadata": {},
   "outputs": [
    {
     "data": {
      "text/plain": [
       "1.0"
      ]
     },
     "execution_count": 23,
     "metadata": {},
     "output_type": "execute_result"
    }
   ],
   "source": [
    "#LRC training score\n",
    "LRclassifier1.score(X_train,y_train)"
   ]
  },
  {
   "cell_type": "code",
   "execution_count": 24,
   "id": "59ead328",
   "metadata": {},
   "outputs": [
    {
     "data": {
      "text/plain": [
       "1.0"
      ]
     },
     "execution_count": 24,
     "metadata": {},
     "output_type": "execute_result"
    }
   ],
   "source": [
    "#LRC test score\n",
    "LRclassifier1.score(X_test,y_test)"
   ]
  },
  {
   "cell_type": "code",
   "execution_count": 25,
   "id": "c5433943",
   "metadata": {},
   "outputs": [],
   "source": [
    "#confusion matrix for printing count of misclassified samples in the test data prediction\n",
    "from sklearn.metrics import confusion_matrix\n",
    "LRconfusionMatrix1 = confusion_matrix(y_test,LRpredict1)"
   ]
  },
  {
   "cell_type": "code",
   "execution_count": 26,
   "id": "f8854387",
   "metadata": {},
   "outputs": [],
   "source": [
    "#visualize the Test set\n",
    "xx, yy = np.mgrid[-5:5:.01, -5:5:.01]\n",
    "grid = np.c_[xx.ravel(), yy.ravel()]\n",
    "probs = LRclassifier1.predict_proba(grid)[:, 1].reshape(xx.shape)"
   ]
  },
  {
   "cell_type": "code",
   "execution_count": 27,
   "id": "e0cee976",
   "metadata": {},
   "outputs": [
    {
     "name": "stdout",
     "output_type": "stream",
     "text": [
      "[[1.69212931e-11 1.70416335e-11 1.71628297e-11 ... 1.98095309e-08\n",
      "  1.99504118e-08 2.00922946e-08]\n",
      " [1.75868947e-11 1.77119688e-11 1.78379323e-11 ... 2.05887418e-08\n",
      "  2.07351643e-08 2.08826281e-08]\n",
      " [1.82786780e-11 1.84086718e-11 1.85395901e-11 ... 2.13986032e-08\n",
      "  2.15507852e-08 2.17040495e-08]\n",
      " ...\n",
      " [9.99998835e-01 9.99998844e-01 9.99998852e-01 ... 9.99999999e-01\n",
      "  9.99999999e-01 9.99999999e-01]\n",
      " [9.99998879e-01 9.99998887e-01 9.99998895e-01 ... 9.99999999e-01\n",
      "  9.99999999e-01 9.99999999e-01]\n",
      " [9.99998922e-01 9.99998929e-01 9.99998937e-01 ... 9.99999999e-01\n",
      "  9.99999999e-01 9.99999999e-01]]\n"
     ]
    }
   ],
   "source": [
    "print(probs)"
   ]
  },
  {
   "cell_type": "code",
   "execution_count": 28,
   "id": "035a7fdb",
   "metadata": {},
   "outputs": [
    {
     "data": {
      "image/png": "[encoded data removed]",
      "text/plain": [
       "<Figure size 800x600 with 2 Axes>"
      ]
     },
     "metadata": {},
     "output_type": "display_data"
    }
   ],
   "source": [
    "f, ax = plt.subplots(figsize=(8, 6))\n",
    "contour = ax.contourf(xx, yy, probs, 25, cmap=\"RdBu\",\n",
    "                      vmin=0, vmax=1)\n",
    "ax_c = f.colorbar(contour)\n",
    "ax_c.set_label(\"$P(y = 1)$\")\n",
    "ax_c.set_ticks([0, .25, .5, .75, 1])\n",
    "\n",
    "ax.scatter(X_test[:, 0], X_test[:, 1],c = (y_test == 1 ), s=50,\n",
    "           cmap=\"RdBu\", vmin=-.2, vmax=1.2,\n",
    "           edgecolor=\"white\", linewidth=1)\n",
    "\n",
    "ax.set(aspect=\"equal\",\n",
    "       xlim=(-5, 5), ylim=(-5, 5),\n",
    "       xlabel=\"$X_1$\", ylabel=\"$X_2$\")\n",
    "\n",
    "plt.show()"
   ]
  },
  {
   "cell_type": "code",
   "execution_count": 29,
   "id": "934b8969",
   "metadata": {},
   "outputs": [],
   "source": [
    "# classify as features(Prefix_Suffix and URL_of_Anchor) and label with index 13\n",
    "X = phishingData.iloc[0:13,[6,14]].values\n",
    "y = phishingData.iloc[0:13,30].values"
   ]
  },
  {
   "cell_type": "code",
   "execution_count": 31,
   "id": "ed1fbb69",
   "metadata": {},
   "outputs": [],
   "source": [
    "#split features and label into training ang testing data\n",
    "from sklearn.linear_model import LogisticRegression\n",
    "X_train,X_test,y_train,y_test = train_test_split(X,y,test_size=0.3,random_state=4)\n"
   ]
  },
  {
   "cell_type": "code",
   "execution_count": 32,
   "id": "cd40e476",
   "metadata": {},
   "outputs": [],
   "source": [
    "#perform feature scaling\n",
    "from sklearn.preprocessing import StandardScaler\n",
    "scalar = StandardScaler()\n",
    "X_train = scalar.fit_transform (X_train)\n",
    "X_test = scalar.transform (X_test)"
   ]
  },
  {
   "cell_type": "code",
   "execution_count": 33,
   "id": "7df5051d",
   "metadata": {},
   "outputs": [
    {
     "data": {
      "text/plain": [
       "LogisticRegression(C=100, random_state=0)"
      ]
     },
     "execution_count": 33,
     "metadata": {},
     "output_type": "execute_result"
    }
   ],
   "source": [
    "#Logistic Regression Classifier \n",
    "from sklearn.linear_model import LogisticRegression\n",
    "LRclassifier11 = LogisticRegression(C=100,random_state=0)\n",
    "LRclassifier11.fit(X_train,y_train)"
   ]
  },
  {
   "cell_type": "code",
   "execution_count": 34,
   "id": "ae2d2969",
   "metadata": {},
   "outputs": [],
   "source": [
    "LRpredict11 = LRclassifier11.predict(X_test)"
   ]
  },
  {
   "cell_type": "code",
   "execution_count": 35,
   "id": "072fa99c",
   "metadata": {},
   "outputs": [
    {
     "data": {
      "text/plain": [
       "0.8888888888888888"
      ]
     },
     "execution_count": 35,
     "metadata": {},
     "output_type": "execute_result"
    }
   ],
   "source": [
    "#LRC training score\n",
    "LRclassifier11.score(X_train,y_train)"
   ]
  },
  {
   "cell_type": "code",
   "execution_count": 36,
   "id": "b06ebb5e",
   "metadata": {},
   "outputs": [
    {
     "data": {
      "text/plain": [
       "1.0"
      ]
     },
     "execution_count": 36,
     "metadata": {},
     "output_type": "execute_result"
    }
   ],
   "source": [
    "#LRC test score\n",
    "LRclassifier11.score(X_test,y_test)"
   ]
  },
  {
   "cell_type": "code",
   "execution_count": 37,
   "id": "36218665",
   "metadata": {},
   "outputs": [],
   "source": [
    "#confusion matrix for printing count of misclassified samples in the test data prediction\n",
    "from sklearn.metrics import confusion_matrix\n",
    "LRconfusionMatrix11 = confusion_matrix(y_test,LRpredict11)"
   ]
  },
  {
   "cell_type": "code",
   "execution_count": 38,
   "id": "758e4489",
   "metadata": {},
   "outputs": [
    {
     "name": "stdout",
     "output_type": "stream",
     "text": [
      "[[4.35180374e-07 4.39590919e-07 4.44046165e-07 ... 1.00132212e-02\n",
      "  1.01136787e-02 1.02151336e-02]\n",
      " [4.41905577e-07 4.46384282e-07 4.50908379e-07 ... 1.01663907e-02\n",
      "  1.02683689e-02 1.03713594e-02]\n",
      " [4.48734711e-07 4.53282629e-07 4.57876640e-07 ... 1.03218788e-02\n",
      "  1.04254003e-02 1.05299489e-02]\n",
      " ...\n",
      " [6.55234823e-01 6.57509234e-01 6.59776432e-01 ... 9.99977362e-01\n",
      "  9.99977589e-01 9.99977814e-01]\n",
      " [6.58690882e-01 6.60954291e-01 6.63210365e-01 ... 9.99977706e-01\n",
      "  9.99977930e-01 9.99978151e-01]\n",
      " [6.62130161e-01 6.64382383e-01 6.66627151e-01 ... 9.99978046e-01\n",
      "  9.99978266e-01 9.99978484e-01]]\n"
     ]
    }
   ],
   "source": [
    "#visualize the Test set \n",
    "xx, yy = np.mgrid[-5:5:.01, -5:5:.01]\n",
    "grid = np.c_[xx.ravel(), yy.ravel()]\n",
    "probs = LRclassifier11.predict_proba(grid)[:, 1].reshape(xx.shape)\n",
    "\n",
    "print(probs)"
   ]
  },
  {
   "cell_type": "code",
   "execution_count": 39,
   "id": "9f0a280e",
   "metadata": {},
   "outputs": [
    {
     "data": {
      "image/png": "[encoded data removed]",
      "text/plain": [
       "<Figure size 800x600 with 2 Axes>"
      ]
     },
     "metadata": {},
     "output_type": "display_data"
    }
   ],
   "source": [
    "f, ax = plt.subplots(figsize=(8, 6))\n",
    "contour = ax.contourf(xx, yy, probs, 25, cmap=\"RdBu\",\n",
    "                      vmin=0, vmax=1)\n",
    "ax_c = f.colorbar(contour)\n",
    "ax_c.set_label(\"$P(y = 1)$\")\n",
    "ax_c.set_ticks([0, .25, .5, .75, 1])\n",
    "\n",
    "ax.scatter(X_test[:, 0], X_test[:, 1],c = (y_test == 1 ), s=50,\n",
    "           cmap=\"RdBu\", vmin=-.2, vmax=1.2,\n",
    "           edgecolor=\"white\", linewidth=1)\n",
    "\n",
    "ax.set(aspect=\"equal\",\n",
    "       xlim=(-5, 5), ylim=(-5, 5),\n",
    "       xlabel=\"$X_1$\", ylabel=\"$X_2$\")\n",
    "\n",
    "plt.show()"
   ]
  },
  {
   "cell_type": "code",
   "execution_count": null,
   "id": "460fa3df",
   "metadata": {},
   "outputs": [],
   "source": []
  }
 ],
 "metadata": {
  "kernelspec": {
   "display_name": "Python 3 (ipykernel)",
   "language": "python",
   "name": "python3"
  },
  "language_info": {
   "codemirror_mode": {
    "name": "ipython",
    "version": 3
   },
   "file_extension": ".py",
   "mimetype": "text/x-python",
   "name": "python",
   "nbconvert_exporter": "python",
   "pygments_lexer": "ipython3",
   "version": "3.8.10"
  }
 },
 "nbformat": 4,
 "nbformat_minor": 5
}
